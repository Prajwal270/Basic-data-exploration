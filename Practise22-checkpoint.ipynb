{
 "cells": [],
 "metadata": {},
 "nbformat": 4,
 "nbformat_minor": 2
}



name = Prajwal raj
